{
 "cells": [
  {
   "cell_type": "markdown",
   "id": "0cf7b9a1",
   "metadata": {},
   "source": [
    "# House Classifier\n",
    "Upload a picture of a curling house like this:\n",
    "![curling house](./curling_house.jpg)\n",
    "\n",
    "Or a picture of an actual house like this:\n",
    "![actual house](./house.jpg)\n",
    "\n",
    "\n",
    "And the trained classifier will tell you which it is!"
   ]
  },
  {
   "cell_type": "code",
   "execution_count": null,
   "id": "6668b8a4",
   "metadata": {},
   "outputs": [],
   "source": [
    "from fastcore.all import *\n",
    "from fastai.vision.widgets import *\n",
    "from fastai.vision.all import *"
   ]
  },
  {
   "cell_type": "code",
   "execution_count": null,
   "id": "fab8dccb",
   "metadata": {},
   "outputs": [],
   "source": [
    "model_path = ('curling_model.pkl')\n",
    "learn = load_learner(model_path)"
   ]
  },
  {
   "cell_type": "code",
   "execution_count": null,
   "id": "b56b4748",
   "metadata": {},
   "outputs": [],
   "source": [
    "btn_upload = widgets.FileUpload()\n",
    "out_pl = widgets.Output()\n",
    "lbl_pred = widgets.Label()\n",
    "btn_run = widgets.Button(description='Classify')"
   ]
  },
  {
   "cell_type": "code",
   "execution_count": null,
   "id": "ed927b6e",
   "metadata": {},
   "outputs": [],
   "source": [
    "def on_click_classify(change):\n",
    "    img = PILImage.create(btn_upload.data[-1]) \n",
    "    out_pl.clear_output()\n",
    "    with out_pl: display(img.to_thumb(128,128))\n",
    "    pred, pred_idx, probs = learn.predict(img)\n",
    "    lbl_pred.value = f'Prediction: {pred}; Probability: {probs[pred_idx]:.04f}'\n",
    "btn_run.on_click(on_click_classify)"
   ]
  },
  {
   "cell_type": "code",
   "execution_count": null,
   "id": "6ae571d2",
   "metadata": {},
   "outputs": [],
   "source": [
    "VBox([widgets.Label('Select your house!'), \n",
    "      btn_upload, btn_run,out_pl,lbl_pred])"
   ]
  }
 ],
 "metadata": {
  "kernelspec": {
   "display_name": "Python 3",
   "language": "python",
   "name": "python3"
  },
  "language_info": {
   "codemirror_mode": {
    "name": "ipython",
    "version": 3
   },
   "file_extension": ".py",
   "mimetype": "text/x-python",
   "name": "python",
   "nbconvert_exporter": "python",
   "pygments_lexer": "ipython3",
   "version": "3.7.9"
  }
 },
 "nbformat": 4,
 "nbformat_minor": 5
}
